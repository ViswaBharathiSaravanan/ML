{
 "cells": [
  {
   "cell_type": "code",
   "execution_count": 56,
   "id": "85a100ef",
   "metadata": {},
   "outputs": [],
   "source": [
    "import pandas as pd\n",
    "from sklearn.preprocessing import LabelEncoder\n",
    "from sklearn.linear_model import LogisticRegression\n",
    "from sklearn.ensemble import AdaBoostClassifier\n",
    "from sklearn.naive_bayes import GaussianNB\n",
    "from sklearn.neighbors import KNeighborsClassifier\n",
    "from sklearn.svm import SVC"
   ]
  },
  {
   "cell_type": "code",
   "execution_count": 57,
   "id": "9a9fe883",
   "metadata": {},
   "outputs": [],
   "source": [
    "bank = pd.read_csv('bank.csv',sep=';')"
   ]
  },
  {
   "cell_type": "code",
   "execution_count": 58,
   "id": "c4126d75",
   "metadata": {},
   "outputs": [],
   "source": [
    "from scipy.stats import chisquare"
   ]
  },
  {
   "cell_type": "code",
   "execution_count": 59,
   "id": "4258d9e5",
   "metadata": {},
   "outputs": [],
   "source": [
    "col = list(bank.columns)"
   ]
  },
  {
   "cell_type": "code",
   "execution_count": 60,
   "id": "2ad77212",
   "metadata": {
    "scrolled": true
   },
   "outputs": [
    {
     "name": "stdout",
     "output_type": "stream",
     "text": [
      "job 330\n",
      "marital 80\n",
      "education 1731\n",
      "default 8597\n",
      "housing 990\n",
      "loan 990\n"
     ]
    }
   ],
   "source": [
    "bank[bank.marital=='unknown'].shape\n",
    "for i in range(0,len(col)):\n",
    "    if(bank[bank[col[i]]=='unknown'].shape[0]!=0):\n",
    "        print(col[i],bank[bank[col[i]]=='unknown'].shape[0])"
   ]
  },
  {
   "cell_type": "code",
   "execution_count": 61,
   "id": "adf95bdd",
   "metadata": {},
   "outputs": [],
   "source": [
    "for i in range(0,len(col)):\n",
    "    if(col[i]!='age' and col[i]!='duration' and col[i]!='campaign' and col[i]!='pdays' and col[i]!='previous' and col[i]!='emp.var.rate' and col[i]!='cons.price.idx' and col[i]!='cons.conf.idx' and col[i]!='euribor3m' and col[i]!='nr.employed'):\n",
    "        label = LabelEncoder().fit(bank[col[i]])\n",
    "        label1 = label.transform(bank[col[i]])\n",
    "        label1 = pd.DataFrame(label1)\n",
    "        bank[col[i]]=label1"
   ]
  },
  {
   "cell_type": "code",
   "execution_count": 62,
   "id": "e6abd857",
   "metadata": {
    "scrolled": true
   },
   "outputs": [
    {
     "name": "stdout",
     "output_type": "stream",
     "text": [
      "Power_divergenceResult(statistic=111758.00532905148, pvalue=0.0)\n",
      "Power_divergenceResult(statistic=142880.97955778055, pvalue=0.0)\n",
      "Power_divergenceResult(statistic=13020.961907916531, pvalue=1.0)\n",
      "Power_divergenceResult(statistic=50171.1261249587, pvalue=9.11133574587219e-189)\n",
      "Power_divergenceResult(statistic=32613.725793327914, pvalue=1.0)\n",
      "Power_divergenceResult(statistic=37310.25118934348, pvalue=1.0)\n",
      "Power_divergenceResult(statistic=65866.41109298533, pvalue=0.0)\n",
      "Power_divergenceResult(statistic=26144.0, pvalue=1.0)\n",
      "Power_divergenceResult(statistic=52398.1516174015, pvalue=5.107061321853665e-284)\n",
      "Power_divergenceResult(statistic=40130.999733546494, pvalue=0.9998959306166811)\n",
      "Power_divergenceResult(statistic=10720041.759883376, pvalue=0.0)\n",
      "Power_divergenceResult(statistic=123082.93552962536, pvalue=0.0)\n",
      "Power_divergenceResult(statistic=1494995.1670772575, pvalue=0.0)\n",
      "Power_divergenceResult(statistic=58323.523862998314, pvalue=0.0)\n",
      "Power_divergenceResult(statistic=5831.367537654338, pvalue=1.0)\n",
      "Power_divergenceResult(statistic=1241318.597168443, pvalue=0.0)\n",
      "Power_divergenceResult(statistic=147.47363453299016, pvalue=1.0)\n",
      "Power_divergenceResult(statistic=-21782.167208717125, pvalue=1.0)\n",
      "Power_divergenceResult(statistic=34215.19556692346, pvalue=1.0)\n",
      "Power_divergenceResult(statistic=41611.440280236304, pvalue=0.0699568688459982)\n",
      "Power_divergenceResult(statistic=36548.0, pvalue=1.0)\n"
     ]
    }
   ],
   "source": [
    "for i in range(0,len(col)):\n",
    "    print(chisquare(bank[col[i]]))"
   ]
  },
  {
   "cell_type": "code",
   "execution_count": 63,
   "id": "61f28f13",
   "metadata": {},
   "outputs": [],
   "source": [
    "x = bank.iloc[0:,0:20]\n",
    "y = bank.iloc[0:,20:21]"
   ]
  },
  {
   "cell_type": "code",
   "execution_count": 64,
   "id": "f3b1b755",
   "metadata": {},
   "outputs": [],
   "source": [
    "from sklearn.preprocessing import StandardScaler as SS"
   ]
  },
  {
   "cell_type": "code",
   "execution_count": 65,
   "id": "17b56123",
   "metadata": {},
   "outputs": [],
   "source": [
    "scalar=SS()\n",
    "scaledX=scalar.fit_transform(x)\n",
    "scaledX=pd.DataFrame(scaledX)\n",
    "scaledX.columns=x.columns"
   ]
  },
  {
   "cell_type": "code",
   "execution_count": 66,
   "id": "41facde9",
   "metadata": {},
   "outputs": [],
   "source": [
    "from sklearn.ensemble import RandomForestClassifier\n",
    "from sklearn.feature_selection import SelectFromModel"
   ]
  },
  {
   "cell_type": "code",
   "execution_count": 67,
   "id": "2a659115",
   "metadata": {},
   "outputs": [],
   "source": [
    "from sklearn.model_selection import train_test_split"
   ]
  },
  {
   "cell_type": "code",
   "execution_count": 68,
   "id": "38d418d4",
   "metadata": {},
   "outputs": [],
   "source": [
    "trainx, testx, trainy, testy = train_test_split(x, y, test_size = 0.3, random_state = 0)"
   ]
  },
  {
   "cell_type": "code",
   "execution_count": 69,
   "id": "3e067ff2",
   "metadata": {},
   "outputs": [
    {
     "name": "stderr",
     "output_type": "stream",
     "text": [
      "E:\\Anaconda\\lib\\site-packages\\sklearn\\feature_selection\\_from_model.py:351: DataConversionWarning: A column-vector y was passed when a 1d array was expected. Please change the shape of y to (n_samples,), for example using ravel().\n",
      "  self.estimator_.fit(X, y, **fit_params)\n"
     ]
    },
    {
     "data": {
      "text/html": [
       "<style>#sk-container-id-3 {color: black;background-color: white;}#sk-container-id-3 pre{padding: 0;}#sk-container-id-3 div.sk-toggleable {background-color: white;}#sk-container-id-3 label.sk-toggleable__label {cursor: pointer;display: block;width: 100%;margin-bottom: 0;padding: 0.3em;box-sizing: border-box;text-align: center;}#sk-container-id-3 label.sk-toggleable__label-arrow:before {content: \"▸\";float: left;margin-right: 0.25em;color: #696969;}#sk-container-id-3 label.sk-toggleable__label-arrow:hover:before {color: black;}#sk-container-id-3 div.sk-estimator:hover label.sk-toggleable__label-arrow:before {color: black;}#sk-container-id-3 div.sk-toggleable__content {max-height: 0;max-width: 0;overflow: hidden;text-align: left;background-color: #f0f8ff;}#sk-container-id-3 div.sk-toggleable__content pre {margin: 0.2em;color: black;border-radius: 0.25em;background-color: #f0f8ff;}#sk-container-id-3 input.sk-toggleable__control:checked~div.sk-toggleable__content {max-height: 200px;max-width: 100%;overflow: auto;}#sk-container-id-3 input.sk-toggleable__control:checked~label.sk-toggleable__label-arrow:before {content: \"▾\";}#sk-container-id-3 div.sk-estimator input.sk-toggleable__control:checked~label.sk-toggleable__label {background-color: #d4ebff;}#sk-container-id-3 div.sk-label input.sk-toggleable__control:checked~label.sk-toggleable__label {background-color: #d4ebff;}#sk-container-id-3 input.sk-hidden--visually {border: 0;clip: rect(1px 1px 1px 1px);clip: rect(1px, 1px, 1px, 1px);height: 1px;margin: -1px;overflow: hidden;padding: 0;position: absolute;width: 1px;}#sk-container-id-3 div.sk-estimator {font-family: monospace;background-color: #f0f8ff;border: 1px dotted black;border-radius: 0.25em;box-sizing: border-box;margin-bottom: 0.5em;}#sk-container-id-3 div.sk-estimator:hover {background-color: #d4ebff;}#sk-container-id-3 div.sk-parallel-item::after {content: \"\";width: 100%;border-bottom: 1px solid gray;flex-grow: 1;}#sk-container-id-3 div.sk-label:hover label.sk-toggleable__label {background-color: #d4ebff;}#sk-container-id-3 div.sk-serial::before {content: \"\";position: absolute;border-left: 1px solid gray;box-sizing: border-box;top: 0;bottom: 0;left: 50%;z-index: 0;}#sk-container-id-3 div.sk-serial {display: flex;flex-direction: column;align-items: center;background-color: white;padding-right: 0.2em;padding-left: 0.2em;position: relative;}#sk-container-id-3 div.sk-item {position: relative;z-index: 1;}#sk-container-id-3 div.sk-parallel {display: flex;align-items: stretch;justify-content: center;background-color: white;position: relative;}#sk-container-id-3 div.sk-item::before, #sk-container-id-3 div.sk-parallel-item::before {content: \"\";position: absolute;border-left: 1px solid gray;box-sizing: border-box;top: 0;bottom: 0;left: 50%;z-index: -1;}#sk-container-id-3 div.sk-parallel-item {display: flex;flex-direction: column;z-index: 1;position: relative;background-color: white;}#sk-container-id-3 div.sk-parallel-item:first-child::after {align-self: flex-end;width: 50%;}#sk-container-id-3 div.sk-parallel-item:last-child::after {align-self: flex-start;width: 50%;}#sk-container-id-3 div.sk-parallel-item:only-child::after {width: 0;}#sk-container-id-3 div.sk-dashed-wrapped {border: 1px dashed gray;margin: 0 0.4em 0.5em 0.4em;box-sizing: border-box;padding-bottom: 0.4em;background-color: white;}#sk-container-id-3 div.sk-label label {font-family: monospace;font-weight: bold;display: inline-block;line-height: 1.2em;}#sk-container-id-3 div.sk-label-container {text-align: center;}#sk-container-id-3 div.sk-container {/* jupyter's `normalize.less` sets `[hidden] { display: none; }` but bootstrap.min.css set `[hidden] { display: none !important; }` so we also need the `!important` here to be able to override the default hidden behavior on the sphinx rendered scikit-learn.org. See: https://github.com/scikit-learn/scikit-learn/issues/21755 */display: inline-block !important;position: relative;}#sk-container-id-3 div.sk-text-repr-fallback {display: none;}</style><div id=\"sk-container-id-3\" class=\"sk-top-container\"><div class=\"sk-text-repr-fallback\"><pre>SelectFromModel(estimator=RandomForestClassifier())</pre><b>In a Jupyter environment, please rerun this cell to show the HTML representation or trust the notebook. <br />On GitHub, the HTML representation is unable to render, please try loading this page with nbviewer.org.</b></div><div class=\"sk-container\" hidden><div class=\"sk-item sk-dashed-wrapped\"><div class=\"sk-label-container\"><div class=\"sk-label sk-toggleable\"><input class=\"sk-toggleable__control sk-hidden--visually\" id=\"sk-estimator-id-7\" type=\"checkbox\" ><label for=\"sk-estimator-id-7\" class=\"sk-toggleable__label sk-toggleable__label-arrow\">SelectFromModel</label><div class=\"sk-toggleable__content\"><pre>SelectFromModel(estimator=RandomForestClassifier())</pre></div></div></div><div class=\"sk-parallel\"><div class=\"sk-parallel-item\"><div class=\"sk-item\"><div class=\"sk-label-container\"><div class=\"sk-label sk-toggleable\"><input class=\"sk-toggleable__control sk-hidden--visually\" id=\"sk-estimator-id-8\" type=\"checkbox\" ><label for=\"sk-estimator-id-8\" class=\"sk-toggleable__label sk-toggleable__label-arrow\">estimator: RandomForestClassifier</label><div class=\"sk-toggleable__content\"><pre>RandomForestClassifier()</pre></div></div></div><div class=\"sk-serial\"><div class=\"sk-item\"><div class=\"sk-estimator sk-toggleable\"><input class=\"sk-toggleable__control sk-hidden--visually\" id=\"sk-estimator-id-9\" type=\"checkbox\" ><label for=\"sk-estimator-id-9\" class=\"sk-toggleable__label sk-toggleable__label-arrow\">RandomForestClassifier</label><div class=\"sk-toggleable__content\"><pre>RandomForestClassifier()</pre></div></div></div></div></div></div></div></div></div></div>"
      ],
      "text/plain": [
       "SelectFromModel(estimator=RandomForestClassifier())"
      ]
     },
     "execution_count": 69,
     "metadata": {},
     "output_type": "execute_result"
    }
   ],
   "source": [
    "sel = SelectFromModel(RandomForestClassifier(n_estimators = 100))\n",
    "sel.fit(trainx, trainy)"
   ]
  },
  {
   "cell_type": "code",
   "execution_count": 70,
   "id": "e9e9708d",
   "metadata": {},
   "outputs": [
    {
     "data": {
      "text/plain": [
       "4"
      ]
     },
     "execution_count": 70,
     "metadata": {},
     "output_type": "execute_result"
    }
   ],
   "source": [
    "selected_feat= trainx.columns[(sel.get_support())]\n",
    "len(selected_feat)"
   ]
  },
  {
   "cell_type": "code",
   "execution_count": 71,
   "id": "01441a68",
   "metadata": {},
   "outputs": [],
   "source": [
    "Selected=scaledX[['age', 'duration', 'euribor3m','nr.employed']]"
   ]
  },
  {
   "cell_type": "code",
   "execution_count": 72,
   "id": "6f9d27b3",
   "metadata": {},
   "outputs": [
    {
     "data": {
      "text/html": [
       "<div>\n",
       "<style scoped>\n",
       "    .dataframe tbody tr th:only-of-type {\n",
       "        vertical-align: middle;\n",
       "    }\n",
       "\n",
       "    .dataframe tbody tr th {\n",
       "        vertical-align: top;\n",
       "    }\n",
       "\n",
       "    .dataframe thead th {\n",
       "        text-align: right;\n",
       "    }\n",
       "</style>\n",
       "<table border=\"1\" class=\"dataframe\">\n",
       "  <thead>\n",
       "    <tr style=\"text-align: right;\">\n",
       "      <th></th>\n",
       "      <th>age</th>\n",
       "      <th>duration</th>\n",
       "      <th>euribor3m</th>\n",
       "      <th>nr.employed</th>\n",
       "    </tr>\n",
       "  </thead>\n",
       "  <tbody>\n",
       "    <tr>\n",
       "      <th>0</th>\n",
       "      <td>1.533034</td>\n",
       "      <td>0.010471</td>\n",
       "      <td>0.712460</td>\n",
       "      <td>0.331680</td>\n",
       "    </tr>\n",
       "    <tr>\n",
       "      <th>1</th>\n",
       "      <td>1.628993</td>\n",
       "      <td>-0.421501</td>\n",
       "      <td>0.712460</td>\n",
       "      <td>0.331680</td>\n",
       "    </tr>\n",
       "    <tr>\n",
       "      <th>2</th>\n",
       "      <td>-0.290186</td>\n",
       "      <td>-0.124520</td>\n",
       "      <td>0.712460</td>\n",
       "      <td>0.331680</td>\n",
       "    </tr>\n",
       "    <tr>\n",
       "      <th>3</th>\n",
       "      <td>-0.002309</td>\n",
       "      <td>-0.413787</td>\n",
       "      <td>0.712460</td>\n",
       "      <td>0.331680</td>\n",
       "    </tr>\n",
       "    <tr>\n",
       "      <th>4</th>\n",
       "      <td>1.533034</td>\n",
       "      <td>0.187888</td>\n",
       "      <td>0.712460</td>\n",
       "      <td>0.331680</td>\n",
       "    </tr>\n",
       "    <tr>\n",
       "      <th>...</th>\n",
       "      <td>...</td>\n",
       "      <td>...</td>\n",
       "      <td>...</td>\n",
       "      <td>...</td>\n",
       "    </tr>\n",
       "    <tr>\n",
       "      <th>41183</th>\n",
       "      <td>3.164336</td>\n",
       "      <td>0.292025</td>\n",
       "      <td>-1.495186</td>\n",
       "      <td>-2.815697</td>\n",
       "    </tr>\n",
       "    <tr>\n",
       "      <th>41184</th>\n",
       "      <td>0.573445</td>\n",
       "      <td>0.481012</td>\n",
       "      <td>-1.495186</td>\n",
       "      <td>-2.815697</td>\n",
       "    </tr>\n",
       "    <tr>\n",
       "      <th>41185</th>\n",
       "      <td>1.533034</td>\n",
       "      <td>-0.267225</td>\n",
       "      <td>-1.495186</td>\n",
       "      <td>-2.815697</td>\n",
       "    </tr>\n",
       "    <tr>\n",
       "      <th>41186</th>\n",
       "      <td>0.381527</td>\n",
       "      <td>0.708569</td>\n",
       "      <td>-1.495186</td>\n",
       "      <td>-2.815697</td>\n",
       "    </tr>\n",
       "    <tr>\n",
       "      <th>41187</th>\n",
       "      <td>3.260295</td>\n",
       "      <td>-0.074380</td>\n",
       "      <td>-1.495186</td>\n",
       "      <td>-2.815697</td>\n",
       "    </tr>\n",
       "  </tbody>\n",
       "</table>\n",
       "<p>41188 rows × 4 columns</p>\n",
       "</div>"
      ],
      "text/plain": [
       "            age  duration  euribor3m  nr.employed\n",
       "0      1.533034  0.010471   0.712460     0.331680\n",
       "1      1.628993 -0.421501   0.712460     0.331680\n",
       "2     -0.290186 -0.124520   0.712460     0.331680\n",
       "3     -0.002309 -0.413787   0.712460     0.331680\n",
       "4      1.533034  0.187888   0.712460     0.331680\n",
       "...         ...       ...        ...          ...\n",
       "41183  3.164336  0.292025  -1.495186    -2.815697\n",
       "41184  0.573445  0.481012  -1.495186    -2.815697\n",
       "41185  1.533034 -0.267225  -1.495186    -2.815697\n",
       "41186  0.381527  0.708569  -1.495186    -2.815697\n",
       "41187  3.260295 -0.074380  -1.495186    -2.815697\n",
       "\n",
       "[41188 rows x 4 columns]"
      ]
     },
     "execution_count": 72,
     "metadata": {},
     "output_type": "execute_result"
    }
   ],
   "source": [
    "Selected"
   ]
  },
  {
   "cell_type": "code",
   "execution_count": 73,
   "id": "4e33fce1",
   "metadata": {},
   "outputs": [],
   "source": [
    "from imblearn.over_sampling import SMOTE\n",
    "sm = SMOTE(random_state = 2)"
   ]
  },
  {
   "cell_type": "markdown",
   "id": "adcd3436",
   "metadata": {},
   "source": [
    "<h2 style = \"color:blue\";> Logistic Regression</h2>"
   ]
  },
  {
   "cell_type": "code",
   "execution_count": 81,
   "id": "372d8b93",
   "metadata": {},
   "outputs": [
    {
     "name": "stderr",
     "output_type": "stream",
     "text": [
      "E:\\Anaconda\\lib\\site-packages\\sklearn\\utils\\validation.py:1111: DataConversionWarning: A column-vector y was passed when a 1d array was expected. Please change the shape of y to (n_samples, ), for example using ravel().\n",
      "  y = column_or_1d(y, warn=True)\n",
      "E:\\Anaconda\\lib\\site-packages\\sklearn\\linear_model\\_logistic.py:444: ConvergenceWarning: lbfgs failed to converge (status=1):\n",
      "STOP: TOTAL NO. of ITERATIONS REACHED LIMIT.\n",
      "\n",
      "Increase the number of iterations (max_iter) or scale the data as shown in:\n",
      "    https://scikit-learn.org/stable/modules/preprocessing.html\n",
      "Please also refer to the documentation for alternative solver options:\n",
      "    https://scikit-learn.org/stable/modules/linear_model.html#logistic-regression\n",
      "  n_iter_i = _check_optimize_result(\n"
     ]
    }
   ],
   "source": [
    "model = LogisticRegression()\n",
    "model.fit(trainx, trainy)\n",
    "predictions = model.predict(testx)"
   ]
  },
  {
   "cell_type": "code",
   "execution_count": 82,
   "id": "9d0d2143",
   "metadata": {},
   "outputs": [],
   "source": [
    "m1 = model.predict(testx)"
   ]
  },
  {
   "cell_type": "code",
   "execution_count": 83,
   "id": "5a7359b6",
   "metadata": {},
   "outputs": [
    {
     "data": {
      "text/plain": [
       "0.9095249656065388"
      ]
     },
     "execution_count": 83,
     "metadata": {},
     "output_type": "execute_result"
    }
   ],
   "source": [
    "model.score(testx,testy)"
   ]
  },
  {
   "cell_type": "markdown",
   "id": "8323c464",
   "metadata": {},
   "source": [
    "<h2 style = \"color:red\";>Ada Boost</h2>"
   ]
  },
  {
   "cell_type": "code",
   "execution_count": 102,
   "id": "5b1dbded",
   "metadata": {},
   "outputs": [
    {
     "name": "stderr",
     "output_type": "stream",
     "text": [
      "E:\\Anaconda\\lib\\site-packages\\sklearn\\utils\\validation.py:1111: DataConversionWarning: A column-vector y was passed when a 1d array was expected. Please change the shape of y to (n_samples, ), for example using ravel().\n",
      "  y = column_or_1d(y, warn=True)\n"
     ]
    }
   ],
   "source": [
    "model2 = AdaBoostClassifier(n_estimators=100, random_state=0).fit(trainx, trainy)"
   ]
  },
  {
   "cell_type": "code",
   "execution_count": 84,
   "id": "83992ae9",
   "metadata": {},
   "outputs": [],
   "source": [
    "m2 = model2.predict(testx)"
   ]
  },
  {
   "cell_type": "code",
   "execution_count": 85,
   "id": "7bef287f",
   "metadata": {},
   "outputs": [
    {
     "data": {
      "text/plain": [
       "0.9123573682932751"
      ]
     },
     "execution_count": 85,
     "metadata": {},
     "output_type": "execute_result"
    }
   ],
   "source": [
    "model2.score(testx,testy)"
   ]
  },
  {
   "cell_type": "markdown",
   "id": "4263f7b6",
   "metadata": {},
   "source": [
    "<h2 style = \"color:green\";>Naive Bayes</h2>"
   ]
  },
  {
   "cell_type": "code",
   "execution_count": 86,
   "id": "afbd8e0c",
   "metadata": {},
   "outputs": [
    {
     "name": "stderr",
     "output_type": "stream",
     "text": [
      "E:\\Anaconda\\lib\\site-packages\\sklearn\\utils\\validation.py:1111: DataConversionWarning: A column-vector y was passed when a 1d array was expected. Please change the shape of y to (n_samples, ), for example using ravel().\n",
      "  y = column_or_1d(y, warn=True)\n"
     ]
    }
   ],
   "source": [
    "model3 = GaussianNB().fit(trainx, trainy)"
   ]
  },
  {
   "cell_type": "code",
   "execution_count": 88,
   "id": "59de91c7",
   "metadata": {},
   "outputs": [],
   "source": [
    "m3 = model3.predict(testx)"
   ]
  },
  {
   "cell_type": "code",
   "execution_count": 28,
   "id": "f9dc9537",
   "metadata": {},
   "outputs": [
    {
     "data": {
      "text/plain": [
       "0.8477785870356883"
      ]
     },
     "execution_count": 28,
     "metadata": {},
     "output_type": "execute_result"
    }
   ],
   "source": [
    "model3.score(testx,testy)"
   ]
  },
  {
   "cell_type": "markdown",
   "id": "947a0c93",
   "metadata": {},
   "source": [
    "<h2 style = \"color:orange\";>KNN</h2>"
   ]
  },
  {
   "cell_type": "code",
   "execution_count": 89,
   "id": "954140c1",
   "metadata": {},
   "outputs": [
    {
     "name": "stderr",
     "output_type": "stream",
     "text": [
      "E:\\Anaconda\\lib\\site-packages\\sklearn\\neighbors\\_classification.py:200: DataConversionWarning: A column-vector y was passed when a 1d array was expected. Please change the shape of y to (n_samples,), for example using ravel().\n",
      "  return self._fit(X, y)\n"
     ]
    }
   ],
   "source": [
    "model4 = KNeighborsClassifier(n_neighbors=3).fit(trainx, trainy)"
   ]
  },
  {
   "cell_type": "code",
   "execution_count": 91,
   "id": "60a8212b",
   "metadata": {},
   "outputs": [],
   "source": [
    "m4 = model4.predict(testx)"
   ]
  },
  {
   "cell_type": "code",
   "execution_count": 92,
   "id": "faee8c98",
   "metadata": {},
   "outputs": [
    {
     "data": {
      "text/plain": [
       "0.9036173828599174"
      ]
     },
     "execution_count": 92,
     "metadata": {},
     "output_type": "execute_result"
    }
   ],
   "source": [
    "model4.score(testx,testy)"
   ]
  },
  {
   "cell_type": "markdown",
   "id": "88166436",
   "metadata": {},
   "source": [
    "<h2 style = \"color:red\";>SVM</h2>"
   ]
  },
  {
   "cell_type": "code",
   "execution_count": 93,
   "id": "8f448195",
   "metadata": {},
   "outputs": [
    {
     "name": "stderr",
     "output_type": "stream",
     "text": [
      "E:\\Anaconda\\lib\\site-packages\\sklearn\\utils\\validation.py:1111: DataConversionWarning: A column-vector y was passed when a 1d array was expected. Please change the shape of y to (n_samples, ), for example using ravel().\n",
      "  y = column_or_1d(y, warn=True)\n"
     ]
    }
   ],
   "source": [
    "model5 = SVC(gamma='auto').fit(trainx,trainy)"
   ]
  },
  {
   "cell_type": "code",
   "execution_count": 94,
   "id": "d7886b4b",
   "metadata": {},
   "outputs": [],
   "source": [
    "m5 = model5.predict(testx)"
   ]
  },
  {
   "cell_type": "code",
   "execution_count": 95,
   "id": "74f3026f",
   "metadata": {},
   "outputs": [
    {
     "data": {
      "text/plain": [
       "0.8876750020231448"
      ]
     },
     "execution_count": 95,
     "metadata": {},
     "output_type": "execute_result"
    }
   ],
   "source": [
    "model5.score(testx,testy)"
   ]
  },
  {
   "cell_type": "code",
   "execution_count": 103,
   "id": "56ce4242",
   "metadata": {},
   "outputs": [],
   "source": [
    "from sklearn.metrics import mean_squared_error"
   ]
  },
  {
   "cell_type": "code",
   "execution_count": 108,
   "id": "1bff6bc4",
   "metadata": {},
   "outputs": [
    {
     "name": "stdout",
     "output_type": "stream",
     "text": [
      "0.09047503439346119\n",
      "0.08764263170672493\n",
      "0.15222141296431171\n",
      "0.09638261714008255\n",
      "0.11232499797685522\n"
     ]
    }
   ],
   "source": [
    "print(mean_squared_error(m1,y_test))\n",
    "print(mean_squared_error(m2,y_test))\n",
    "print(mean_squared_error(m3,y_test))\n",
    "print(mean_squared_error(m4,y_test))\n",
    "print(mean_squared_error(m5,y_test))"
   ]
  },
  {
   "cell_type": "code",
   "execution_count": null,
   "id": "59181e5e",
   "metadata": {},
   "outputs": [],
   "source": []
  }
 ],
 "metadata": {
  "kernelspec": {
   "display_name": "Python 3 (ipykernel)",
   "language": "python",
   "name": "python3"
  },
  "language_info": {
   "codemirror_mode": {
    "name": "ipython",
    "version": 3
   },
   "file_extension": ".py",
   "mimetype": "text/x-python",
   "name": "python",
   "nbconvert_exporter": "python",
   "pygments_lexer": "ipython3",
   "version": "3.9.7"
  }
 },
 "nbformat": 4,
 "nbformat_minor": 5
}
